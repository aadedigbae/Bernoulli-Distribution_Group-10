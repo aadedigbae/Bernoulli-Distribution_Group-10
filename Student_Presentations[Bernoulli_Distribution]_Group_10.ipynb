{
  "nbformat": 4,
  "nbformat_minor": 0,
  "metadata": {
    "colab": {
      "provenance": []
    },
    "kernelspec": {
      "name": "python3",
      "display_name": "Python 3"
    },
    "language_info": {
      "name": "python"
    }
  },
  "cells": [
    {
      "cell_type": "markdown",
      "source": [
        "# **GROUP 10:** **Bernoulli's Distribution.**"
      ],
      "metadata": {
        "id": "QQbgLS3d37WR"
      }
    },
    {
      "cell_type": "markdown",
      "source": [],
      "metadata": {
        "id": "94x2TBh54bL-"
      }
    },
    {
      "cell_type": "markdown",
      "source": [
        "## **Task 1**\n",
        "### Research done by Emmanuel Obolo Oluwapelumi\n",
        "\n",
        "# Bernoulli Distribution – Refined Explanation\n",
        "\n",
        "The **Bernoulli distribution** is one of the simplest and most fundamental probability distributions. It describes a random experiment that has **exactly two possible outcomes**: success or failure. The distribution is defined by a **single parameter**, \\( p \\), which is the probability of success in one trial.\n",
        "\n",
        "While it's often described in terms of **one trial**, understanding the Bernoulli distribution is the foundation for grasping more complex distributions like the **Binomial distribution** (which models multiple independent Bernoulli trials).\n",
        "\n",
        "## Characteristics of the Bernoulli Distribution:\n",
        "- **Binary outcomes**: The result of a Bernoulli trial can only be one of two possibilities (typically coded as 1 for success, and 0 for failure).\n",
        "- **Single parameter** \\( p \\): The probability of success, with the complementary probability \\( (1 - p) \\) being the probability of failure.\n",
        "- **Single trial**: A Bernoulli distribution models **just one trial**, and we’re interested in whether it results in success or failure."
      ],
      "metadata": {
        "id": "ojxee_pYEC2g"
      }
    },
    {
      "cell_type": "markdown",
      "source": [
        "## **Task 2**\n",
        "## Relevant Formula done by Theodora:\n",
        "\n",
        "## Probability Mass Function (PMF) of Bernoulli Distribution:\n",
        "The PMF defines the probability of each outcome (success or failure):\n",
        "\n",
        "\\[\n",
        "P(X = 1) = p, P(X = 0) = 1 - p\n",
        "\\]\n",
        "\n",
        "Where:\n",
        "- \\( p \\) is the probability of success.\n",
        "- \\( 1 - p \\) is the probability of failure.\n",
        "\n",
        "For a Bernoulli distribution, \\( X \\) takes the value 1 with probability \\( p \\) and 0 with probability \\( 1 - p \\).\n"
      ],
      "metadata": {
        "id": "GXOHXHyQJfl8"
      }
    },
    {
      "cell_type": "markdown",
      "source": [
        "# **Task 3**\n",
        "# Example of a Bernoulli Trial using the formula done by Juliana:\n",
        "Coin Flip: Suppose you flip a biased coin once.\n",
        "\n",
        "\n",
        "\n",
        "*   If you get heads, you consider it a success (value of 1).\n",
        "*   If you get tails, it's a failure (value of 0).\n",
        "\n",
        "\n",
        "\n",
        "and since the coin is biased to success where the probability of getting heads (success) is ( p = 0.6 ).\n",
        "\n",
        "The probability of getting heads in one trial is:\n",
        "\n",
        "[ P(X = 1) = p = 0.6 ]\n",
        "\n",
        "The probability of getting tails (failure) in one trial is:\n",
        "\n",
        "[ P(X = 0) = 1 - p = 0.4 ]\n",
        "\n",
        "If you flip the coin once, there's a 60% chance of getting heads and a 40% chance of getting tails. This is a\n",
        "\n",
        "This single coin flip follows a Bernoulli trial."
      ],
      "metadata": {
        "id": "J5lAXIfq6Dqw"
      }
    },
    {
      "cell_type": "markdown",
      "source": [
        "## **Task 4**\n",
        "## Extending to the Binomial Distribution to help visualize a bernoulli trial and doing example with python code (numpy only) done by Festus.\n",
        "\n",
        "\n",
        "Now, we all know bernoulli trial involving just one trial, and 2 outcomes could be tough to show a distribution of it, now this is where binomial distribution helps in, because bernoulli trial is a subset of binomial distribution, imagine you flip the biased coin multiple times (say **n times**). Each individual flip is still a **Bernoulli trial**, but now you want to see the distribution of how many times one gets a head i.e. success (1) and a tail i.e. failure (0) in a fixed period of timeframe which each action independent of each other, would helps us get a distribution for bernoulli trial, which is just binomial distribution step, but we are not counting the number of successes (heads) across all n flips which would mean we are dealing with a **binomial distribution**.\n",
        "\n",
        "In summary a **binomial distribution** is simply \\( n \\) independent Bernoulli trials, where you're counting the number of successes across \\( n \\) trials.\n",
        "\n",
        "If you flip the coin 10 times and ask, \"What’s the probability of getting exactly 7 heads?\", you're dealing with a **binomial distribution**.\n",
        "\n",
        "### Summary:\n",
        "- **Bernoulli distribution**: One trial, binary outcome (success/failure).\n",
        "- **Binomial distribution**: Multiple independent Bernoulli trials, counting successes.\n"
      ],
      "metadata": {
        "id": "sWjXblMs8-1g"
      }
    },
    {
      "cell_type": "code",
      "source": [
        "import numpy as np\n",
        "import matplotlib.pyplot as plt\n",
        "\n",
        "# Parameters\n",
        "# the probability of success can be altered by being bias\n",
        "# to either the success or the failure part.\n",
        "# so we just decided to stick with a case not bias such that\n",
        "# both success and failure have the same probability.\n",
        "\n",
        "p = 0.6  # Probability of success (e.g., heads)\n",
        "n = 1000  # Number of trials\n",
        "\n",
        "# Generate Bernoulli distributed data\n",
        "data = np.random.binomial(1, p, n)  # Binomial with 1 trial is Bernoulli\n",
        "\n",
        "# Count occurrences of success (1) and failure (0)\n",
        "success = np.sum(data)\n",
        "failure = n - success\n",
        "print(success)\n",
        "print(failure)"
      ],
      "metadata": {
        "id": "GGPpW7Bc8-MD",
        "colab": {
          "base_uri": "https://localhost:8080/"
        },
        "outputId": "98c57ac5-a5fd-445d-db17-727696c3faf5"
      },
      "execution_count": 3,
      "outputs": [
        {
          "output_type": "stream",
          "name": "stdout",
          "text": [
            "610\n",
            "390\n"
          ]
        }
      ]
    },
    {
      "cell_type": "markdown",
      "source": [
        "## **Task 5**\n",
        "## Plotting the Distribution (X-Y Plot) done by Adediwura:\n",
        "\n",
        "Now, let's visualize our **Bernoulli distribution** with the help of the **Binomial distribution**:\n",
        "\n",
        "In a Bernoulli distribution, the **probability mass function** is discrete, and we only have two outcomes: success (1) and failure (0).\n",
        "\n",
        "Here’s how you would plot the distribution in Python (as in the example code above):\n",
        "\n",
        "- **X-axis**: The two possible outcomes (0 = failure, 1 = success).\n",
        "- **Y-axis**: The probabilities associated with each outcome.\n",
        "\n",
        "For the coin flip example (\\( p = 0.6 \\)), the plot would show:\n",
        "\n",
        "- A bar at \\( X = 1 \\) with height 0.6 (success).\n",
        "- A bar at \\( X = 0 \\) with height 0.4 (failure).\n"
      ],
      "metadata": {
        "id": "KrZPV08mGqIR"
      }
    },
    {
      "cell_type": "markdown",
      "source": [],
      "metadata": {
        "id": "flVH72T933nD"
      }
    },
    {
      "cell_type": "code",
      "execution_count": 4,
      "metadata": {
        "id": "fn3tTXm8CAay",
        "colab": {
          "base_uri": "https://localhost:8080/",
          "height": 508
        },
        "outputId": "ad6e5dd2-5d86-44ce-bead-1de438df74b3"
      },
      "outputs": [
        {
          "output_type": "display_data",
          "data": {
            "text/plain": [
              "<Figure size 640x480 with 1 Axes>"
            ],
            "image/png": "[encoded data removed]"
          },
          "metadata": {}
        },
        {
          "output_type": "stream",
          "name": "stdout",
          "text": [
            "Successes: 610\n",
            "Failures: 390\n"
          ]
        }
      ],
      "source": [
        "# Plot the results\n",
        "plt.bar([0, 1], [failure, success], tick_label=['Failure (0)', 'Success (1)'])\n",
        "plt.title('Bernoulli Distribution (p = 0.6)')\n",
        "plt.xlabel('Outcome')\n",
        "plt.ylabel('Frequency')\n",
        "plt.show()\n",
        "\n",
        "print(f\"Successes: {success}\")\n",
        "print(f\"Failures: {failure}\")"
      ]
    }
  ]
}